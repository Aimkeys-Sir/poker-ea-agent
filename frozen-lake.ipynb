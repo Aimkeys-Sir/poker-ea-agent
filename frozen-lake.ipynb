{
 "cells": [
  {
   "cell_type": "code",
   "execution_count": 3,
   "id": "f9fd88fb",
   "metadata": {},
   "outputs": [],
   "source": [
    "import numpy as np\n",
    "import gym\n",
    "import random\n",
    "import time\n",
    "from IPython.display import clear_output"
   ]
  },
  {
   "cell_type": "code",
   "execution_count": 30,
   "id": "6455d5c0",
   "metadata": {},
   "outputs": [],
   "source": [
    "env = gym.make(\"FrozenLake-v1\", render_mode='human')"
   ]
  },
  {
   "cell_type": "code",
   "execution_count": 5,
   "id": "f5cd0b06",
   "metadata": {},
   "outputs": [],
   "source": [
    "action_space_size= env.action_space.n\n",
    "state_space_size = env.observation_space.n\n",
    "\n",
    "q_table = np.zeros((state_space_size, action_space_size))\n",
    "#print(q_table)"
   ]
  },
  {
   "cell_type": "code",
   "execution_count": 6,
   "id": "0222a801",
   "metadata": {},
   "outputs": [],
   "source": [
    "num_episodes = 10000\n",
    "max_steps_per_episode = 1000\n",
    "\n",
    "learning_rate = 0.1\n",
    "discount_rate = 0.99\n",
    "\n",
    "exploration_rate = 1\n",
    "max_exploration_rate =1\n",
    "min_exploration_rate = 0.01\n",
    "exploration_decay_rate = 0.0008"
   ]
  },
  {
   "cell_type": "code",
   "execution_count": 7,
   "id": "3243d468",
   "metadata": {},
   "outputs": [
    {
     "name": "stderr",
     "output_type": "stream",
     "text": [
      "/home/aimkeys/.local/lib/python3.8/site-packages/gym/utils/passive_env_checker.py:233: DeprecationWarning: `np.bool8` is a deprecated alias for `np.bool_`.  (Deprecated NumPy 1.24)\n",
      "  if not isinstance(terminated, (bool, np.bool8)):\n"
     ]
    },
    {
     "name": "stdout",
     "output_type": "stream",
     "text": [
      "******Average reward per thousand episodes*******\n",
      "\n",
      "1000 :  0.035000000000000024\n",
      "2000 :  0.1520000000000001\n",
      "3000 :  0.31900000000000023\n",
      "4000 :  0.43700000000000033\n",
      "5000 :  0.5790000000000004\n",
      "6000 :  0.6320000000000005\n",
      "7000 :  0.6820000000000005\n",
      "8000 :  0.6580000000000005\n",
      "9000 :  0.6650000000000005\n",
      "10000 :  0.6820000000000005\n",
      "\n",
      "\n",
      "*******Q-table*******\n",
      "[[0.55807959 0.50789425 0.51042785 0.50477195]\n",
      " [0.395009   0.26671524 0.36454637 0.50053091]\n",
      " [0.41817287 0.37852804 0.41142538 0.4737756 ]\n",
      " [0.26642018 0.30051188 0.32089859 0.4626277 ]\n",
      " [0.57780768 0.42419327 0.29902106 0.32470129]\n",
      " [0.         0.         0.         0.        ]\n",
      " [0.35943409 0.16322996 0.14795894 0.15340924]\n",
      " [0.         0.         0.         0.        ]\n",
      " [0.48647666 0.51596785 0.41120541 0.60067476]\n",
      " [0.37086089 0.63681017 0.42064335 0.46508011]\n",
      " [0.57110969 0.33525167 0.40159673 0.30924477]\n",
      " [0.         0.         0.         0.        ]\n",
      " [0.         0.         0.         0.        ]\n",
      " [0.45449672 0.35794957 0.75517543 0.63237435]\n",
      " [0.73074649 0.89863976 0.77268884 0.76272043]\n",
      " [0.         0.         0.         0.        ]]\n"
     ]
    }
   ],
   "source": [
    "reward_all_episodes = []\n",
    "\n",
    "# Q-learning algorithm\n",
    "for episode in range(num_episodes):\n",
    "    state = env.reset()[0]\n",
    "    \n",
    "    done = False\n",
    "    rewards_current_episode = 0\n",
    "    \n",
    "    for step in range(max_steps_per_episode):\n",
    "        \n",
    "        #Exploration vs exploitation trade-off\n",
    "        exploration_rate_threshold = random.uniform(0,1)\n",
    "        if exploration_rate_threshold> exploration_rate :\n",
    "            action = np.argmax(q_table[state, :])\n",
    "        else:\n",
    "            action = env.action_space.sample()\n",
    "            \n",
    "        new_state, reward, done, truncated, info = env.step(action)\n",
    "        \n",
    "        \n",
    "        #update the Q-table for Q(s,a)\n",
    "        q_table[state, action] = q_table[state, action] * (1- learning_rate) +\\\n",
    "        learning_rate * (reward + discount_rate * np.max(q_table[new_state, :]))\n",
    "        \n",
    "        state = new_state\n",
    "        rewards_current_episode += reward\n",
    "        \n",
    "        if done == True or truncated == True:\n",
    "            break\n",
    "    \n",
    "    #exploration rate decay\n",
    "    exploration_rate = min_exploration_rate +(max_exploration_rate - min_exploration_rate) * np.exp(-exploration_decay_rate*episode)\n",
    "    \n",
    "    reward_all_episodes.append(rewards_current_episode)\n",
    "                             \n",
    "#calculate the average reward per thousand episodes\n",
    "rewards_per_thousand_episodes = np.split(np.array(reward_all_episodes),num_episodes/1000)\n",
    "count =1000\n",
    "print(\"******Average reward per thousand episodes*******\\n\")\n",
    "for r in rewards_per_thousand_episodes:\n",
    "    print(count, \": \", str(sum(r/1000)))\n",
    "    count += 1000\n",
    "\n",
    "#print updated Q-table\n",
    "print(\"\\n\\n*******Q-table*******\")\n",
    "print(q_table)"
   ]
  },
  {
   "cell_type": "code",
   "execution_count": 31,
   "id": "b37d214a",
   "metadata": {
    "scrolled": true
   },
   "outputs": [
    {
     "name": "stdout",
     "output_type": "stream",
     "text": [
      "\n",
      "\n",
      "\n",
      "*******Episode 1 *******\n",
      "\n",
      "0.0\n",
      "***Damn, you fell!***\n",
      "\n",
      "\n",
      "\n",
      "*******Episode 2 *******\n",
      "\n",
      "0.0\n",
      "***Damn, you fell!***\n",
      "\n",
      "\n",
      "\n",
      "*******Episode 3 *******\n",
      "\n",
      "1.0\n",
      "***Cool stuff! You win!***\n"
     ]
    }
   ],
   "source": [
    "for episode in range(3):\n",
    "    s = env.reset()\n",
    "    state = s[0]\n",
    "    done = False\n",
    "    \n",
    "    print(\"\\n\\n\\n*******Episode\", episode+1, \"*******\\n\")\n",
    "    time.sleep(0.4)\n",
    "    env.render()\n",
    "    \n",
    "    for step in range(max_steps_per_episode):\n",
    "#         clear_output(wait=True)\n",
    "#         env.render()\n",
    "        time.sleep(0.3)\n",
    "        \n",
    "        action = np.argmax(q_table[state, :])\n",
    "\n",
    "        result = env.step(action)\n",
    "        new_state, reward, done, truncated, info = result\n",
    "        \n",
    "        if done:\n",
    "            print(reward)\n",
    "            if reward == 1:\n",
    "                print(\"***Cool stuff! You win!***\")\n",
    "            else:\n",
    "                print(\"***Damn, you fell!***\")\n",
    "            time.sleep(3)\n",
    "            break\n",
    "                \n",
    "        state = new_state\n",
    "        \n",
    "env.close()"
   ]
  },
  {
   "cell_type": "code",
   "execution_count": 15,
   "id": "d3c0b30d",
   "metadata": {},
   "outputs": [
    {
     "data": {
      "text/plain": [
       "array([[0.55807959, 0.50789425, 0.51042785, 0.50477195],\n",
       "       [0.395009  , 0.26671524, 0.36454637, 0.50053091],\n",
       "       [0.41817287, 0.37852804, 0.41142538, 0.4737756 ],\n",
       "       [0.26642018, 0.30051188, 0.32089859, 0.4626277 ],\n",
       "       [0.57780768, 0.42419327, 0.29902106, 0.32470129],\n",
       "       [0.        , 0.        , 0.        , 0.        ],\n",
       "       [0.35943409, 0.16322996, 0.14795894, 0.15340924],\n",
       "       [0.        , 0.        , 0.        , 0.        ],\n",
       "       [0.48647666, 0.51596785, 0.41120541, 0.60067476],\n",
       "       [0.37086089, 0.63681017, 0.42064335, 0.46508011],\n",
       "       [0.57110969, 0.33525167, 0.40159673, 0.30924477],\n",
       "       [0.        , 0.        , 0.        , 0.        ],\n",
       "       [0.        , 0.        , 0.        , 0.        ],\n",
       "       [0.45449672, 0.35794957, 0.75517543, 0.63237435],\n",
       "       [0.73074649, 0.89863976, 0.77268884, 0.76272043],\n",
       "       [0.        , 0.        , 0.        , 0.        ]])"
      ]
     },
     "execution_count": 15,
     "metadata": {},
     "output_type": "execute_result"
    }
   ],
   "source": [
    "np.argmax(q_table[1,:])\n",
    "q_table"
   ]
  },
  {
   "cell_type": "code",
   "execution_count": null,
   "id": "de1e5409",
   "metadata": {},
   "outputs": [],
   "source": [
    "env.close()"
   ]
  },
  {
   "cell_type": "code",
   "execution_count": null,
   "id": "0f06fa70",
   "metadata": {},
   "outputs": [],
   "source": []
  }
 ],
 "metadata": {
  "kernelspec": {
   "display_name": "Python 3 (ipykernel)",
   "language": "python",
   "name": "python3"
  },
  "language_info": {
   "codemirror_mode": {
    "name": "ipython",
    "version": 3
   },
   "file_extension": ".py",
   "mimetype": "text/x-python",
   "name": "python",
   "nbconvert_exporter": "python",
   "pygments_lexer": "ipython3",
   "version": "3.8.10"
  }
 },
 "nbformat": 4,
 "nbformat_minor": 5
}
