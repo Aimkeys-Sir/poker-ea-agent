{
 "cells": [
  {
   "cell_type": "code",
   "execution_count": 2,
   "id": "56aa23df",
   "metadata": {},
   "outputs": [],
   "source": [
    "import numpy as np\n",
    "import gym\n",
    "import random\n",
    "import time\n",
    "from IPython.display import clear_output"
   ]
  },
  {
   "cell_type": "code",
   "execution_count": 4,
   "id": "42f76b60",
   "metadata": {},
   "outputs": [],
   "source": [
    "env = gym.make(\"FrozenLake-v1\")"
   ]
  },
  {
   "cell_type": "code",
   "execution_count": 6,
   "id": "b9650b5d",
   "metadata": {},
   "outputs": [],
   "source": [
    "action_space_size= env.action_space.n\n",
    "state_space_size = env.observation_space.n\n",
    "\n",
    "q_table = np.zeros((state_space_size, action_space_size))\n",
    "#print(q_table)"
   ]
  },
  {
   "cell_type": "code",
   "execution_count": 8,
   "id": "ca57a70e",
   "metadata": {},
   "outputs": [],
   "source": [
    "num_episodes = 1000\n",
    "max_steps_per_episode = 100\n",
    "\n",
    "learning_rate = 0.1\n",
    "discount_rate = 0.99\n",
    "\n",
    "exploration_rate = 1\n",
    "max_exploration_rate =1\n",
    "min_exploration_rate = 0.01\n",
    "exploration_decay_rate = 0.001"
   ]
  },
  {
   "cell_type": "code",
   "execution_count": 65,
   "id": "7f06fe64",
   "metadata": {},
   "outputs": [
    {
     "name": "stdout",
     "output_type": "stream",
     "text": [
      "******Average reward per thousand episodes*******\n",
      "\n",
      "1000 :  0.04100000000000003\n",
      "2000 :  0.20200000000000015\n",
      "3000 :  0.4130000000000003\n",
      "4000 :  0.5770000000000004\n",
      "5000 :  0.6170000000000004\n",
      "6000 :  0.6800000000000005\n",
      "7000 :  0.7110000000000005\n",
      "8000 :  0.6990000000000005\n",
      "9000 :  0.7100000000000005\n",
      "10000 :  0.6960000000000005\n",
      "\n",
      "\n",
      "*******Q-table*******\n",
      "[[0.58079217 0.54849968 0.55887308 0.54360224]\n",
      " [0.32175324 0.32180059 0.31947425 0.51809579]\n",
      " [0.44600873 0.41195991 0.42824068 0.48896188]\n",
      " [0.34839522 0.27424394 0.34468936 0.47289877]\n",
      " [0.60603182 0.45783858 0.36185268 0.4323105 ]\n",
      " [0.         0.         0.         0.        ]\n",
      " [0.46939571 0.17669341 0.20164384 0.14964546]\n",
      " [0.         0.         0.         0.        ]\n",
      " [0.39287371 0.50612073 0.38939354 0.6341329 ]\n",
      " [0.29674665 0.65973105 0.5301749  0.37861871]\n",
      " [0.65374463 0.39694953 0.39265086 0.20326544]\n",
      " [0.         0.         0.         0.        ]\n",
      " [0.         0.         0.         0.        ]\n",
      " [0.53607196 0.4853582  0.75105117 0.41374514]\n",
      " [0.75545669 0.87446989 0.79395005 0.73832857]\n",
      " [0.         0.         0.         0.        ]]\n"
     ]
    }
   ],
   "source": [
    "reward_all_episodes = []\n",
    "\n",
    "# Q-learning algorithm\n",
    "for episode in range(num_episodes):\n",
    "    state = env.reset()[0]\n",
    "    \n",
    "    done = False\n",
    "    rewards_current_episode = 0\n",
    "    \n",
    "    for step in range(max_steps_per_episode):\n",
    "        \n",
    "        #Exploration vs exploitation trade-off\n",
    "        exploration_rate_threshold = random.uniform(0,1)\n",
    "        if exploration_rate_threshold> exploration_rate :\n",
    "            action = np.argmax(q_table[state, :])\n",
    "        else:\n",
    "            action = env.action_space.sample()\n",
    "            \n",
    "        new_state, reward, done, truncated, info = env.step(action)\n",
    "        \n",
    "        \n",
    "        #update the Q-table for Q(s,a)\n",
    "        q_table[state, action] = q_table[state, action] * (1- learning_rate) +\\\n",
    "        learning_rate * (reward + discount_rate * np.max(q_table[new_state, :]))\n",
    "        \n",
    "        state = new_state\n",
    "        rewards_current_episode += reward\n",
    "        \n",
    "        if done == True or truncated == True:\n",
    "            break\n",
    "    \n",
    "    #exploration rate decay\n",
    "    exploration_rate = min_exploration_rate +(max_exploration_rate - min_exploration_rate) * np.exp(-exploration_decay_rate*episode)\n",
    "    \n",
    "    reward_all_episodes.append(rewards_current_episode)\n",
    "                             \n",
    "#calculate the average reward per thousand episodes\n",
    "rewards_per_thousand_episodes = np.split(np.array(reward_all_episodes),num_episodes/1000)\n",
    "count =1000\n",
    "print(\"******Average reward per thousand episodes*******\\n\")\n",
    "for r in rewards_per_thousand_episodes:\n",
    "    print(count, \": \", str(sum(r/1000)))\n",
    "    count += 1000\n",
    "\n",
    "#print updated Q-table\n",
    "print(\"\\n\\n*******Q-table*******\")\n",
    "print(q_table)"
   ]
  },
  {
   "cell_type": "code",
   "execution_count": null,
   "id": "d87f9255",
   "metadata": {},
   "outputs": [],
   "source": []
  }
 ],
 "metadata": {
  "kernelspec": {
   "display_name": "Python 3 (ipykernel)",
   "language": "python",
   "name": "python3"
  },
  "language_info": {
   "codemirror_mode": {
    "name": "ipython",
    "version": 3
   },
   "file_extension": ".py",
   "mimetype": "text/x-python",
   "name": "python",
   "nbconvert_exporter": "python",
   "pygments_lexer": "ipython3",
   "version": "3.8.10"
  }
 },
 "nbformat": 4,
 "nbformat_minor": 5
}
